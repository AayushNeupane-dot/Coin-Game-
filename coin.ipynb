{
 "cells": [
  {
   "cell_type": "code",
   "execution_count": 4,
   "id": "014c83ba",
   "metadata": {},
   "outputs": [
    {
     "name": "stdout",
     "output_type": "stream",
     "text": [
      "Welcome to the Coin Toss Game!\n",
      "Coin 1: H\n",
      "Coin 2: T\n",
      " No match, try again!\n",
      "Invalid input, please enter \"y\" or \"n\".\n",
      "Coin 1: T\n",
      "Coin 2: T\n",
      " It's a match!\n",
      "Invalid input, please enter \"y\" or \"n\".\n",
      "Invalid input, please enter \"y\" or \"n\".\n",
      "Thanks for playing!\n"
     ]
    }
   ],
   "source": [
    "import random as rd\n",
    "\n",
    "# Toss two coins at once\n",
    "def toss_coins():\n",
    "    return rd.choice(['H', 'T']), rd.choice(['H', 'T'])\n",
    "\n",
    "# Display result of the toss\n",
    "def display_results(coin1, coin2):\n",
    "    print(f\"Coin 1: {coin1}\")\n",
    "    print(f\"Coin 2: {coin2}\")\n",
    "\n",
    "    if coin1 == coin2:\n",
    "        print(\" It's a match!\")\n",
    "    else:\n",
    "        print(\" No match, try again!\")\n",
    "\n",
    "# Ask the user to continue\n",
    "def ask_continue():\n",
    "    while True:\n",
    "        response = input('Do you want to continue? (y/n): ').strip().lower()\n",
    "        if response in ['y', 'n']:\n",
    "            return response == 'y'\n",
    "        print('Invalid input, please enter \"y\" or \"n\".')\n",
    "\n",
    "# Main game function\n",
    "def play_game():\n",
    "    print(\"Welcome to the Coin Toss Game!\")\n",
    "\n",
    "    while True:\n",
    "        input(\"\\nPress Enter to toss the coins...\")\n",
    "\n",
    "        coin1, coin2 = toss_coins()\n",
    "        display_results(coin1, coin2)\n",
    "\n",
    "        if not ask_continue():\n",
    "            print(\"Thanks for playing!\")\n",
    "            break\n",
    "\n",
    "# Start the game\n",
    "if __name__ == \"__main__\":\n",
    "    play_game()\n"
   ]
  }
 ],
 "metadata": {
  "kernelspec": {
   "display_name": "Python 3",
   "language": "python",
   "name": "python3"
  },
  "language_info": {
   "codemirror_mode": {
    "name": "ipython",
    "version": 3
   },
   "file_extension": ".py",
   "mimetype": "text/x-python",
   "name": "python",
   "nbconvert_exporter": "python",
   "pygments_lexer": "ipython3",
   "version": "3.13.3"
  }
 },
 "nbformat": 4,
 "nbformat_minor": 5
}
